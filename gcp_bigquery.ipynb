{
 "cells": [
  {
   "cell_type": "markdown",
   "metadata": {},
   "source": [
    "## 0. 필요 라이브러리 import"
   ]
  },
  {
   "cell_type": "code",
   "execution_count": 1,
   "metadata": {},
   "outputs": [],
   "source": [
    "import pandas as pd\n",
    "from google.oauth2 import service_account\n",
    "from google.cloud import bigquery"
   ]
  },
  {
   "cell_type": "markdown",
   "metadata": {},
   "source": [
    "## 1. Pandas 라이브러리를 활용하여 BigQuery 다루기"
   ]
  },
  {
   "cell_type": "markdown",
   "metadata": {},
   "source": [
    "#### 1-1) GCP 권한 인증"
   ]
  },
  {
   "cell_type": "code",
   "execution_count": 2,
   "metadata": {},
   "outputs": [],
   "source": [
    "JSON_KEY_PATH = \"sprintda05-soomin-389e878cb2dc.json\"\n",
    "\n",
    "credentials = service_account.Credentials.from_service_account_file(JSON_KEY_PATH)"
   ]
  },
  {
   "cell_type": "markdown",
   "metadata": {},
   "source": [
    "### 1-2) 고정값 정의"
   ]
  },
  {
   "cell_type": "code",
   "execution_count": 3,
   "metadata": {},
   "outputs": [],
   "source": [
    "project_id = 'sprintda05-soomin'\n",
    "dataset = 'sprint_pokemon'\n",
    "table = 'pokemon'\n",
    "location = 'asia-northeast3'\n",
    "query = f\"SELECT * FROM {project_id}.{dataset}.{table}\""
   ]
  },
  {
   "cell_type": "markdown",
   "metadata": {},
   "source": [
    "#### 1-3) 데이터 읽기"
   ]
  },
  {
   "cell_type": "code",
   "execution_count": 6,
   "metadata": {},
   "outputs": [
    {
     "data": {
      "text/html": [
       "<div>\n",
       "<style scoped>\n",
       "    .dataframe tbody tr th:only-of-type {\n",
       "        vertical-align: middle;\n",
       "    }\n",
       "\n",
       "    .dataframe tbody tr th {\n",
       "        vertical-align: top;\n",
       "    }\n",
       "\n",
       "    .dataframe thead th {\n",
       "        text-align: right;\n",
       "    }\n",
       "</style>\n",
       "<table border=\"1\" class=\"dataframe\">\n",
       "  <thead>\n",
       "    <tr style=\"text-align: right;\">\n",
       "      <th></th>\n",
       "      <th>id</th>\n",
       "      <th>kor_name</th>\n",
       "      <th>eng_name</th>\n",
       "      <th>type1</th>\n",
       "      <th>type2</th>\n",
       "      <th>total</th>\n",
       "      <th>hp</th>\n",
       "      <th>attack</th>\n",
       "      <th>defense</th>\n",
       "      <th>special_attack</th>\n",
       "      <th>special_defense</th>\n",
       "      <th>speed</th>\n",
       "      <th>generation</th>\n",
       "      <th>is_legendary</th>\n",
       "    </tr>\n",
       "  </thead>\n",
       "  <tbody>\n",
       "    <tr>\n",
       "      <th>0</th>\n",
       "      <td>1</td>\n",
       "      <td>이상해씨</td>\n",
       "      <td>Bulbasaur</td>\n",
       "      <td>Grass</td>\n",
       "      <td>Poison</td>\n",
       "      <td>318</td>\n",
       "      <td>45</td>\n",
       "      <td>49</td>\n",
       "      <td>49</td>\n",
       "      <td>65</td>\n",
       "      <td>65</td>\n",
       "      <td>45</td>\n",
       "      <td>1</td>\n",
       "      <td>False</td>\n",
       "    </tr>\n",
       "    <tr>\n",
       "      <th>1</th>\n",
       "      <td>2</td>\n",
       "      <td>이상해풀</td>\n",
       "      <td>Ivysaur</td>\n",
       "      <td>Grass</td>\n",
       "      <td>Poison</td>\n",
       "      <td>405</td>\n",
       "      <td>60</td>\n",
       "      <td>62</td>\n",
       "      <td>63</td>\n",
       "      <td>80</td>\n",
       "      <td>80</td>\n",
       "      <td>60</td>\n",
       "      <td>1</td>\n",
       "      <td>False</td>\n",
       "    </tr>\n",
       "    <tr>\n",
       "      <th>2</th>\n",
       "      <td>3</td>\n",
       "      <td>이상해꽃</td>\n",
       "      <td>Venusaur</td>\n",
       "      <td>Grass</td>\n",
       "      <td>Poison</td>\n",
       "      <td>525</td>\n",
       "      <td>80</td>\n",
       "      <td>82</td>\n",
       "      <td>83</td>\n",
       "      <td>100</td>\n",
       "      <td>100</td>\n",
       "      <td>80</td>\n",
       "      <td>1</td>\n",
       "      <td>False</td>\n",
       "    </tr>\n",
       "    <tr>\n",
       "      <th>3</th>\n",
       "      <td>4</td>\n",
       "      <td>파이리</td>\n",
       "      <td>Charmander</td>\n",
       "      <td>Fire</td>\n",
       "      <td>None</td>\n",
       "      <td>309</td>\n",
       "      <td>39</td>\n",
       "      <td>52</td>\n",
       "      <td>43</td>\n",
       "      <td>60</td>\n",
       "      <td>50</td>\n",
       "      <td>65</td>\n",
       "      <td>1</td>\n",
       "      <td>False</td>\n",
       "    </tr>\n",
       "    <tr>\n",
       "      <th>4</th>\n",
       "      <td>5</td>\n",
       "      <td>리자드</td>\n",
       "      <td>Charmeleon</td>\n",
       "      <td>Fire</td>\n",
       "      <td>None</td>\n",
       "      <td>405</td>\n",
       "      <td>58</td>\n",
       "      <td>64</td>\n",
       "      <td>58</td>\n",
       "      <td>80</td>\n",
       "      <td>65</td>\n",
       "      <td>80</td>\n",
       "      <td>1</td>\n",
       "      <td>False</td>\n",
       "    </tr>\n",
       "    <tr>\n",
       "      <th>...</th>\n",
       "      <td>...</td>\n",
       "      <td>...</td>\n",
       "      <td>...</td>\n",
       "      <td>...</td>\n",
       "      <td>...</td>\n",
       "      <td>...</td>\n",
       "      <td>...</td>\n",
       "      <td>...</td>\n",
       "      <td>...</td>\n",
       "      <td>...</td>\n",
       "      <td>...</td>\n",
       "      <td>...</td>\n",
       "      <td>...</td>\n",
       "      <td>...</td>\n",
       "    </tr>\n",
       "    <tr>\n",
       "      <th>246</th>\n",
       "      <td>247</td>\n",
       "      <td>데기라스</td>\n",
       "      <td>Pupitar</td>\n",
       "      <td>Rock</td>\n",
       "      <td>Ground</td>\n",
       "      <td>410</td>\n",
       "      <td>70</td>\n",
       "      <td>84</td>\n",
       "      <td>70</td>\n",
       "      <td>65</td>\n",
       "      <td>70</td>\n",
       "      <td>51</td>\n",
       "      <td>2</td>\n",
       "      <td>False</td>\n",
       "    </tr>\n",
       "    <tr>\n",
       "      <th>247</th>\n",
       "      <td>248</td>\n",
       "      <td>마기라스</td>\n",
       "      <td>Tyranitar</td>\n",
       "      <td>Rock</td>\n",
       "      <td>Dark</td>\n",
       "      <td>600</td>\n",
       "      <td>100</td>\n",
       "      <td>134</td>\n",
       "      <td>110</td>\n",
       "      <td>95</td>\n",
       "      <td>100</td>\n",
       "      <td>61</td>\n",
       "      <td>2</td>\n",
       "      <td>False</td>\n",
       "    </tr>\n",
       "    <tr>\n",
       "      <th>248</th>\n",
       "      <td>249</td>\n",
       "      <td>루기아</td>\n",
       "      <td>Lugia</td>\n",
       "      <td>Psychic</td>\n",
       "      <td>Flying</td>\n",
       "      <td>680</td>\n",
       "      <td>106</td>\n",
       "      <td>90</td>\n",
       "      <td>130</td>\n",
       "      <td>90</td>\n",
       "      <td>154</td>\n",
       "      <td>110</td>\n",
       "      <td>2</td>\n",
       "      <td>True</td>\n",
       "    </tr>\n",
       "    <tr>\n",
       "      <th>249</th>\n",
       "      <td>250</td>\n",
       "      <td>칠색조</td>\n",
       "      <td>Ho-oh</td>\n",
       "      <td>Fire</td>\n",
       "      <td>Flying</td>\n",
       "      <td>680</td>\n",
       "      <td>106</td>\n",
       "      <td>130</td>\n",
       "      <td>90</td>\n",
       "      <td>110</td>\n",
       "      <td>154</td>\n",
       "      <td>90</td>\n",
       "      <td>2</td>\n",
       "      <td>True</td>\n",
       "    </tr>\n",
       "    <tr>\n",
       "      <th>250</th>\n",
       "      <td>251</td>\n",
       "      <td>세레비</td>\n",
       "      <td>Celebi</td>\n",
       "      <td>Psychic</td>\n",
       "      <td>Grass</td>\n",
       "      <td>600</td>\n",
       "      <td>100</td>\n",
       "      <td>100</td>\n",
       "      <td>100</td>\n",
       "      <td>100</td>\n",
       "      <td>100</td>\n",
       "      <td>100</td>\n",
       "      <td>2</td>\n",
       "      <td>False</td>\n",
       "    </tr>\n",
       "  </tbody>\n",
       "</table>\n",
       "<p>251 rows × 14 columns</p>\n",
       "</div>"
      ],
      "text/plain": [
       "      id kor_name    eng_name    type1   type2  total   hp  attack  defense  \\\n",
       "0      1     이상해씨   Bulbasaur    Grass  Poison    318   45      49       49   \n",
       "1      2     이상해풀     Ivysaur    Grass  Poison    405   60      62       63   \n",
       "2      3     이상해꽃    Venusaur    Grass  Poison    525   80      82       83   \n",
       "3      4      파이리  Charmander     Fire    None    309   39      52       43   \n",
       "4      5      리자드  Charmeleon     Fire    None    405   58      64       58   \n",
       "..   ...      ...         ...      ...     ...    ...  ...     ...      ...   \n",
       "246  247     데기라스     Pupitar     Rock  Ground    410   70      84       70   \n",
       "247  248     마기라스   Tyranitar     Rock    Dark    600  100     134      110   \n",
       "248  249      루기아       Lugia  Psychic  Flying    680  106      90      130   \n",
       "249  250      칠색조       Ho-oh     Fire  Flying    680  106     130       90   \n",
       "250  251      세레비      Celebi  Psychic   Grass    600  100     100      100   \n",
       "\n",
       "     special_attack  special_defense  speed  generation  is_legendary  \n",
       "0                65               65     45           1         False  \n",
       "1                80               80     60           1         False  \n",
       "2               100              100     80           1         False  \n",
       "3                60               50     65           1         False  \n",
       "4                80               65     80           1         False  \n",
       "..              ...              ...    ...         ...           ...  \n",
       "246              65               70     51           2         False  \n",
       "247              95              100     61           2         False  \n",
       "248              90              154    110           2          True  \n",
       "249             110              154     90           2          True  \n",
       "250             100              100    100           2         False  \n",
       "\n",
       "[251 rows x 14 columns]"
      ]
     },
     "execution_count": 6,
     "metadata": {},
     "output_type": "execute_result"
    }
   ],
   "source": [
    "pd.read_gbq(\n",
    "    query = query,\n",
    "    project_id=project_id,\n",
    "    credentials=credentials,\n",
    "    location=location\n",
    ")"
   ]
  },
  {
   "cell_type": "markdown",
   "metadata": {},
   "source": [
    "#### 1-4) 데이터 쓰기"
   ]
  },
  {
   "cell_type": "code",
   "execution_count": 8,
   "metadata": {},
   "outputs": [
    {
     "data": {
      "text/html": [
       "<div>\n",
       "<style scoped>\n",
       "    .dataframe tbody tr th:only-of-type {\n",
       "        vertical-align: middle;\n",
       "    }\n",
       "\n",
       "    .dataframe tbody tr th {\n",
       "        vertical-align: top;\n",
       "    }\n",
       "\n",
       "    .dataframe thead th {\n",
       "        text-align: right;\n",
       "    }\n",
       "</style>\n",
       "<table border=\"1\" class=\"dataframe\">\n",
       "  <thead>\n",
       "    <tr style=\"text-align: right;\">\n",
       "      <th></th>\n",
       "      <th>idx</th>\n",
       "      <th>proc_ym</th>\n",
       "      <th>proc_ymd</th>\n",
       "      <th>point</th>\n",
       "    </tr>\n",
       "  </thead>\n",
       "  <tbody>\n",
       "    <tr>\n",
       "      <th>0</th>\n",
       "      <td>96465</td>\n",
       "      <td>202306</td>\n",
       "      <td>20230624</td>\n",
       "      <td>1000</td>\n",
       "    </tr>\n",
       "    <tr>\n",
       "      <th>1</th>\n",
       "      <td>96465</td>\n",
       "      <td>202306</td>\n",
       "      <td>20230624</td>\n",
       "      <td>500</td>\n",
       "    </tr>\n",
       "    <tr>\n",
       "      <th>2</th>\n",
       "      <td>87940</td>\n",
       "      <td>202304</td>\n",
       "      <td>20230405</td>\n",
       "      <td>2000</td>\n",
       "    </tr>\n",
       "    <tr>\n",
       "      <th>3</th>\n",
       "      <td>87940</td>\n",
       "      <td>202304</td>\n",
       "      <td>20230405</td>\n",
       "      <td>3500</td>\n",
       "    </tr>\n",
       "    <tr>\n",
       "      <th>4</th>\n",
       "      <td>87940</td>\n",
       "      <td>202304</td>\n",
       "      <td>20230405</td>\n",
       "      <td>4000</td>\n",
       "    </tr>\n",
       "  </tbody>\n",
       "</table>\n",
       "</div>"
      ],
      "text/plain": [
       "     idx proc_ym  proc_ymd point\n",
       "0  96465  202306  20230624  1000\n",
       "1  96465  202306  20230624   500\n",
       "2  87940  202304  20230405  2000\n",
       "3  87940  202304  20230405  3500\n",
       "4  87940  202304  20230405  4000"
      ]
     },
     "execution_count": 8,
     "metadata": {},
     "output_type": "execute_result"
    }
   ],
   "source": [
    "point_his = pd.read_parquet('dataset/point_his.parquet')\n",
    "point_his.head()"
   ]
  },
  {
   "cell_type": "code",
   "execution_count": 9,
   "metadata": {},
   "outputs": [],
   "source": [
    "point_his.to_gbq(\n",
    "    destination_table='bigquery.point_his',\n",
    "    project_id=project_id,\n",
    "    if_exists='replace',\n",
    "    location=location,\n",
    "    credentials=credentials\n",
    ")"
   ]
  },
  {
   "cell_type": "markdown",
   "metadata": {},
   "source": [
    "## 2. google-cloud-bigquery 라이브러리를 활용하여 BigQuery 다루기"
   ]
  },
  {
   "cell_type": "markdown",
   "metadata": {},
   "source": [
    "#### 2-1) GCP 권한 인증 및 Client 생성\n",
    "- Client - BigQuery에 사용자가 내린 명령을 API로 전달하고 결과를 가져오는 역할"
   ]
  },
  {
   "cell_type": "code",
   "execution_count": 11,
   "metadata": {},
   "outputs": [],
   "source": [
    "# 상대경로로 사용\n",
    "JSON_KEY_PATH = \"sprintda05-soomin-389e878cb2dc.json\"\n",
    "credentials = service_account.Credentials.from_service_account_file(JSON_KEY_PATH)\n",
    "\n",
    "project_id = 'sprintda05-soomin'\n",
    "dataset = 'sprint_pokemon'\n",
    "table = 'pokemon'\n",
    "location = 'asia-northeast3'"
   ]
  },
  {
   "cell_type": "code",
   "execution_count": 10,
   "metadata": {},
   "outputs": [],
   "source": [
    "client = bigquery.Client(\n",
    "    project=project_id,\n",
    "    location=location,\n",
    "    credentials=credentials   \n",
    ")\n"
   ]
  },
  {
   "cell_type": "markdown",
   "metadata": {},
   "source": [
    "#### 2-2) Dataset 관련 실습"
   ]
  },
  {
   "cell_type": "code",
   "execution_count": 13,
   "metadata": {},
   "outputs": [
    {
     "data": {
      "text/plain": [
       "Dataset(DatasetReference('sprintda05-soomin', 'python_database'))"
      ]
     },
     "execution_count": 13,
     "metadata": {},
     "output_type": "execute_result"
    }
   ],
   "source": [
    "## dataset 생성\n",
    "dataset_name = 'python_database'\n",
    "\n",
    "dataset_obj = bigquery.Dataset(f\"{project_id}.{dataset_name}\")\n",
    "\n",
    "client.create_dataset(\n",
    "    dataset=dataset_obj,\n",
    "    exists_ok=True,\n",
    ")"
   ]
  },
  {
   "cell_type": "code",
   "execution_count": 14,
   "metadata": {},
   "outputs": [
    {
     "name": "stdout",
     "output_type": "stream",
     "text": [
      "bigquery\n",
      "python_database\n",
      "sprint_pokemon\n"
     ]
    }
   ],
   "source": [
    "## dataset 목록 조회\n",
    "for dataset in client.list_datasets():\n",
    "    print(dataset.dataset_id)"
   ]
  },
  {
   "cell_type": "code",
   "execution_count": null,
   "metadata": {},
   "outputs": [],
   "source": [
    "## 데이터셋 삭제\n",
    "client.delete_dataset(\n",
    "    dataset=f'{project_id}.{dataset_name}',\n",
    "    not_found_ok=True\n",
    ")"
   ]
  },
  {
   "cell_type": "code",
   "execution_count": 16,
   "metadata": {},
   "outputs": [
    {
     "name": "stdout",
     "output_type": "stream",
     "text": [
      "bigquery\n",
      "sprint_pokemon\n"
     ]
    }
   ],
   "source": [
    "## dataset 목록 조회\n",
    "for dataset in client.list_datasets():\n",
    "    print(dataset.dataset_id)"
   ]
  },
  {
   "cell_type": "code",
   "execution_count": 20,
   "metadata": {},
   "outputs": [
    {
     "data": {
      "text/plain": [
       "['SCOPE',\n",
       " '_SET_PROJECT',\n",
       " '__annotations__',\n",
       " '__class__',\n",
       " '__delattr__',\n",
       " '__dict__',\n",
       " '__dir__',\n",
       " '__doc__',\n",
       " '__enter__',\n",
       " '__eq__',\n",
       " '__exit__',\n",
       " '__format__',\n",
       " '__ge__',\n",
       " '__getattribute__',\n",
       " '__getstate__',\n",
       " '__gt__',\n",
       " '__hash__',\n",
       " '__init__',\n",
       " '__init_subclass__',\n",
       " '__le__',\n",
       " '__lt__',\n",
       " '__module__',\n",
       " '__ne__',\n",
       " '__new__',\n",
       " '__reduce__',\n",
       " '__reduce_ex__',\n",
       " '__repr__',\n",
       " '__setattr__',\n",
       " '__sizeof__',\n",
       " '__str__',\n",
       " '__subclasshook__',\n",
       " '__weakref__',\n",
       " '_call_api',\n",
       " '_client_cert_source',\n",
       " '_connection',\n",
       " '_credentials',\n",
       " '_dataset_from_arg',\n",
       " '_default_load_job_config',\n",
       " '_default_query_job_config',\n",
       " '_determine_default',\n",
       " '_do_multipart_upload',\n",
       " '_do_resumable_upload',\n",
       " '_ensure_bqstorage_client',\n",
       " '_get_query_results',\n",
       " '_http',\n",
       " '_http_internal',\n",
       " '_initiate_resumable_upload',\n",
       " '_list_rows_from_query_results',\n",
       " '_location',\n",
       " '_schema_from_json_file_object',\n",
       " '_schema_to_json_file_object',\n",
       " 'cancel_job',\n",
       " 'close',\n",
       " 'copy_table',\n",
       " 'create_dataset',\n",
       " 'create_job',\n",
       " 'create_routine',\n",
       " 'create_table',\n",
       " 'dataset',\n",
       " 'default_load_job_config',\n",
       " 'default_query_job_config',\n",
       " 'delete_dataset',\n",
       " 'delete_job_metadata',\n",
       " 'delete_model',\n",
       " 'delete_routine',\n",
       " 'delete_table',\n",
       " 'extract_table',\n",
       " 'from_service_account_info',\n",
       " 'from_service_account_json',\n",
       " 'get_dataset',\n",
       " 'get_iam_policy',\n",
       " 'get_job',\n",
       " 'get_model',\n",
       " 'get_routine',\n",
       " 'get_service_account_email',\n",
       " 'get_table',\n",
       " 'insert_rows',\n",
       " 'insert_rows_from_dataframe',\n",
       " 'insert_rows_json',\n",
       " 'job_from_resource',\n",
       " 'list_datasets',\n",
       " 'list_jobs',\n",
       " 'list_models',\n",
       " 'list_partitions',\n",
       " 'list_projects',\n",
       " 'list_routines',\n",
       " 'list_rows',\n",
       " 'list_tables',\n",
       " 'load_table_from_dataframe',\n",
       " 'load_table_from_file',\n",
       " 'load_table_from_json',\n",
       " 'load_table_from_uri',\n",
       " 'location',\n",
       " 'project',\n",
       " 'query',\n",
       " 'query_and_wait',\n",
       " 'schema_from_json',\n",
       " 'schema_to_json',\n",
       " 'set_iam_policy',\n",
       " 'test_iam_permissions',\n",
       " 'update_dataset',\n",
       " 'update_model',\n",
       " 'update_routine',\n",
       " 'update_table']"
      ]
     },
     "execution_count": 20,
     "metadata": {},
     "output_type": "execute_result"
    }
   ],
   "source": [
    "## 해당 객체가 사용할 수 있는 메소드를 모두 다 출력!\n",
    "dir(client)"
   ]
  },
  {
   "cell_type": "markdown",
   "metadata": {},
   "source": [
    "#### 2-3) Table 관련 실습"
   ]
  },
  {
   "cell_type": "code",
   "execution_count": 21,
   "metadata": {},
   "outputs": [
    {
     "name": "stdout",
     "output_type": "stream",
     "text": [
      "member\n",
      "pokemon\n"
     ]
    }
   ],
   "source": [
    "## 테이블 목록 조회\n",
    "for table in client.list_tables(dataset='sprint_pokemon'):\n",
    "    print(table.table_id)"
   ]
  },
  {
   "cell_type": "code",
   "execution_count": 22,
   "metadata": {},
   "outputs": [],
   "source": [
    "## 테이블 조회\n",
    "'''\n",
    "client.query(\n",
    "    query = query,\n",
    "    project = project_id,\n",
    "    location = location\n",
    "    )\n",
    "\n",
    "이지만 앞에서 이미 선언 하였으므로 생략해도 작동\n",
    "'''\n",
    "\n",
    "table_obj = client.query(\n",
    "    query='SELECT * FROM sprint_pokemon.pokemon'\n",
    ")"
   ]
  },
  {
   "cell_type": "code",
   "execution_count": null,
   "metadata": {},
   "outputs": [],
   "source": [
    "dir(table_obj)"
   ]
  },
  {
   "cell_type": "code",
   "execution_count": 26,
   "metadata": {},
   "outputs": [
    {
     "data": {
      "text/html": [
       "<div>\n",
       "<style scoped>\n",
       "    .dataframe tbody tr th:only-of-type {\n",
       "        vertical-align: middle;\n",
       "    }\n",
       "\n",
       "    .dataframe tbody tr th {\n",
       "        vertical-align: top;\n",
       "    }\n",
       "\n",
       "    .dataframe thead th {\n",
       "        text-align: right;\n",
       "    }\n",
       "</style>\n",
       "<table border=\"1\" class=\"dataframe\">\n",
       "  <thead>\n",
       "    <tr style=\"text-align: right;\">\n",
       "      <th></th>\n",
       "      <th>id</th>\n",
       "      <th>kor_name</th>\n",
       "      <th>eng_name</th>\n",
       "      <th>type1</th>\n",
       "      <th>type2</th>\n",
       "      <th>total</th>\n",
       "      <th>hp</th>\n",
       "      <th>attack</th>\n",
       "      <th>defense</th>\n",
       "      <th>special_attack</th>\n",
       "      <th>special_defense</th>\n",
       "      <th>speed</th>\n",
       "      <th>generation</th>\n",
       "      <th>is_legendary</th>\n",
       "    </tr>\n",
       "  </thead>\n",
       "  <tbody>\n",
       "    <tr>\n",
       "      <th>0</th>\n",
       "      <td>1</td>\n",
       "      <td>이상해씨</td>\n",
       "      <td>Bulbasaur</td>\n",
       "      <td>Grass</td>\n",
       "      <td>Poison</td>\n",
       "      <td>318</td>\n",
       "      <td>45</td>\n",
       "      <td>49</td>\n",
       "      <td>49</td>\n",
       "      <td>65</td>\n",
       "      <td>65</td>\n",
       "      <td>45</td>\n",
       "      <td>1</td>\n",
       "      <td>False</td>\n",
       "    </tr>\n",
       "    <tr>\n",
       "      <th>1</th>\n",
       "      <td>2</td>\n",
       "      <td>이상해풀</td>\n",
       "      <td>Ivysaur</td>\n",
       "      <td>Grass</td>\n",
       "      <td>Poison</td>\n",
       "      <td>405</td>\n",
       "      <td>60</td>\n",
       "      <td>62</td>\n",
       "      <td>63</td>\n",
       "      <td>80</td>\n",
       "      <td>80</td>\n",
       "      <td>60</td>\n",
       "      <td>1</td>\n",
       "      <td>False</td>\n",
       "    </tr>\n",
       "    <tr>\n",
       "      <th>2</th>\n",
       "      <td>3</td>\n",
       "      <td>이상해꽃</td>\n",
       "      <td>Venusaur</td>\n",
       "      <td>Grass</td>\n",
       "      <td>Poison</td>\n",
       "      <td>525</td>\n",
       "      <td>80</td>\n",
       "      <td>82</td>\n",
       "      <td>83</td>\n",
       "      <td>100</td>\n",
       "      <td>100</td>\n",
       "      <td>80</td>\n",
       "      <td>1</td>\n",
       "      <td>False</td>\n",
       "    </tr>\n",
       "    <tr>\n",
       "      <th>3</th>\n",
       "      <td>4</td>\n",
       "      <td>파이리</td>\n",
       "      <td>Charmander</td>\n",
       "      <td>Fire</td>\n",
       "      <td>None</td>\n",
       "      <td>309</td>\n",
       "      <td>39</td>\n",
       "      <td>52</td>\n",
       "      <td>43</td>\n",
       "      <td>60</td>\n",
       "      <td>50</td>\n",
       "      <td>65</td>\n",
       "      <td>1</td>\n",
       "      <td>False</td>\n",
       "    </tr>\n",
       "    <tr>\n",
       "      <th>4</th>\n",
       "      <td>5</td>\n",
       "      <td>리자드</td>\n",
       "      <td>Charmeleon</td>\n",
       "      <td>Fire</td>\n",
       "      <td>None</td>\n",
       "      <td>405</td>\n",
       "      <td>58</td>\n",
       "      <td>64</td>\n",
       "      <td>58</td>\n",
       "      <td>80</td>\n",
       "      <td>65</td>\n",
       "      <td>80</td>\n",
       "      <td>1</td>\n",
       "      <td>False</td>\n",
       "    </tr>\n",
       "  </tbody>\n",
       "</table>\n",
       "</div>"
      ],
      "text/plain": [
       "   id kor_name    eng_name  type1   type2  total  hp  attack  defense  \\\n",
       "0   1     이상해씨   Bulbasaur  Grass  Poison    318  45      49       49   \n",
       "1   2     이상해풀     Ivysaur  Grass  Poison    405  60      62       63   \n",
       "2   3     이상해꽃    Venusaur  Grass  Poison    525  80      82       83   \n",
       "3   4      파이리  Charmander   Fire    None    309  39      52       43   \n",
       "4   5      리자드  Charmeleon   Fire    None    405  58      64       58   \n",
       "\n",
       "   special_attack  special_defense  speed  generation  is_legendary  \n",
       "0              65               65     45           1         False  \n",
       "1              80               80     60           1         False  \n",
       "2             100              100     80           1         False  \n",
       "3              60               50     65           1         False  \n",
       "4              80               65     80           1         False  "
      ]
     },
     "execution_count": 26,
     "metadata": {},
     "output_type": "execute_result"
    }
   ],
   "source": [
    "table_obj.to_dataframe().head()"
   ]
  },
  {
   "cell_type": "code",
   "execution_count": 27,
   "metadata": {},
   "outputs": [
    {
     "data": {
      "text/plain": [
       "CopyJob<project=sprintda05-soomin, location=asia-northeast3, id=729432ad-ca30-4b3d-a8d7-207e52f27e53>"
      ]
     },
     "execution_count": 27,
     "metadata": {},
     "output_type": "execute_result"
    }
   ],
   "source": [
    "## 테이블을 다른 dataset으로 복제\n",
    "# sprint_pokemon.member -> bigquery.member\n",
    "\n",
    "client.copy_table(\n",
    "    sources='sprint_pokemon.member',\n",
    "    destination='bigquery.member'\n",
    ")\n"
   ]
  },
  {
   "cell_type": "code",
   "execution_count": 28,
   "metadata": {},
   "outputs": [
    {
     "data": {
      "text/html": [
       "<div>\n",
       "<style scoped>\n",
       "    .dataframe tbody tr th:only-of-type {\n",
       "        vertical-align: middle;\n",
       "    }\n",
       "\n",
       "    .dataframe tbody tr th {\n",
       "        vertical-align: top;\n",
       "    }\n",
       "\n",
       "    .dataframe thead th {\n",
       "        text-align: right;\n",
       "    }\n",
       "</style>\n",
       "<table border=\"1\" class=\"dataframe\">\n",
       "  <thead>\n",
       "    <tr style=\"text-align: right;\">\n",
       "      <th></th>\n",
       "      <th>idx</th>\n",
       "      <th>regdate</th>\n",
       "    </tr>\n",
       "  </thead>\n",
       "  <tbody>\n",
       "    <tr>\n",
       "      <th>0</th>\n",
       "      <td>1</td>\n",
       "      <td>20221206</td>\n",
       "    </tr>\n",
       "    <tr>\n",
       "      <th>1</th>\n",
       "      <td>2</td>\n",
       "      <td>20221206</td>\n",
       "    </tr>\n",
       "    <tr>\n",
       "      <th>2</th>\n",
       "      <td>3</td>\n",
       "      <td>20221206</td>\n",
       "    </tr>\n",
       "    <tr>\n",
       "      <th>3</th>\n",
       "      <td>4</td>\n",
       "      <td>20221206</td>\n",
       "    </tr>\n",
       "    <tr>\n",
       "      <th>4</th>\n",
       "      <td>5</td>\n",
       "      <td>20221206</td>\n",
       "    </tr>\n",
       "  </tbody>\n",
       "</table>\n",
       "</div>"
      ],
      "text/plain": [
       "  idx   regdate\n",
       "0   1  20221206\n",
       "1   2  20221206\n",
       "2   3  20221206\n",
       "3   4  20221206\n",
       "4   5  20221206"
      ]
     },
     "execution_count": 28,
     "metadata": {},
     "output_type": "execute_result"
    }
   ],
   "source": [
    "## dataframe -> Bigquery Table\n",
    "regdate = pd.read_parquet('./dataset/regdate.parquet')\n",
    "regdate.head()"
   ]
  },
  {
   "cell_type": "code",
   "execution_count": null,
   "metadata": {},
   "outputs": [
    {
     "data": {
      "text/plain": [
       "LoadJob<project=sprintda05-soomin, location=asia-northeast3, id=0fdf87c3-971e-4047-8516-31fcb3a57981>"
      ]
     },
     "execution_count": 29,
     "metadata": {},
     "output_type": "execute_result"
    }
   ],
   "source": [
    "# 데이터프레임을 빅쿼리 테이블로 생성\n",
    "client.load_table_from_dataframe(\n",
    "    dataframe=regdate,\n",
    "    destination='sprint_pokemon.regdate'\n",
    ")"
   ]
  },
  {
   "cell_type": "code",
   "execution_count": 30,
   "metadata": {},
   "outputs": [],
   "source": [
    "## 테이블 삭제\n",
    "client.delete_table(\n",
    "    table='sprint_pokemon.regdate',\n",
    "    not_found_ok=True\n",
    ")"
   ]
  },
  {
   "cell_type": "markdown",
   "metadata": {},
   "source": [
    "#### 2-4) 실습 미션 - 1"
   ]
  },
  {
   "cell_type": "markdown",
   "metadata": {},
   "source": [
    "dataset/ 디렉토리 아래의 5개 parquet 파일을 대상으로 작업.\n",
    "\n",
    "- 데이터셋 ID : education\n",
    "- 테이블명 : 파일명과 동일\n",
    "- 요구사항\n",
    "    1. bigquery client를 활용하여 작업해주세요\n",
    "    2. 'education' 이라는 이름의 새로운 데이터셋을 생성해주세요.\n",
    "    3. 해당 데이터셋 내부에 5개의 테이블을 저장해주세요.\n",
    "    4. 'python_dataset' 데이터셋으로 member 제외 나머지 테이블 복사.\n",
    "    \n",
    "  권장 사항!\n",
    "  - 3번, 4번을 for문 써서 어떻게 구현할 수 있을지 고민!"
   ]
  },
  {
   "cell_type": "code",
   "execution_count": 36,
   "metadata": {},
   "outputs": [],
   "source": [
    "import os\n",
    "\n",
    "# 1\n",
    "JSON_KEY_PATH = 'sprintda05-soomin-389e878cb2dc.json'\n",
    "credentials = service_account.Credentials.from_service_account_file(JSON_KEY_PATH)\n",
    "\n",
    "project_id = 'sprintda05-soomin'\n",
    "location = 'asia-northeast3'\n",
    "\n",
    "client = bigquery.Client(\n",
    "    project=project_id,\n",
    "    location=location,\n",
    "    credentials=credentials   \n",
    ")\n",
    "\n",
    "# 2\n",
    "client.create_dataset(\n",
    "    dataset=f'{project_id}.education',\n",
    "    exists_ok=True\n",
    ")\n",
    "\n",
    "# 3\n",
    "parquet_files = [f for f in os.listdir('dataset') if f.endswith('.parquet')]\n",
    "dataframes = [pd.read_parquet(os.path.join('dataset', f)) for f in parquet_files]\n",
    "for i, file in enumerate(parquet_files):\n",
    "    name = os.path.splitext(file)[0]\n",
    "    \n",
    "    client.load_table_from_dataframe(\n",
    "        dataframe=dataframes[i],\n",
    "        destination=f'education.{name}'\n",
    ")\n",
    "\n",
    "# 4\n",
    "client.create_dataset(\n",
    "    dataset=f'{project_id}.python_dataset',\n",
    "    exists_ok=True\n",
    ")\n",
    "\n",
    "for table in client.list_tables(dataset='education'):\n",
    "    name = table.table_id\n",
    "    if name != 'member':\n",
    "        client.copy_table(\n",
    "            sources=f'education.{name}',\n",
    "            destination=f'python_dataset.{name}'\n",
    ")\n"
   ]
  },
  {
   "cell_type": "code",
   "execution_count": null,
   "metadata": {},
   "outputs": [],
   "source": []
  },
  {
   "cell_type": "markdown",
   "metadata": {},
   "source": [
    "#### 2-5) BigQuery 테이블 → GCS의 파일로 저장"
   ]
  },
  {
   "cell_type": "code",
   "execution_count": 40,
   "metadata": {},
   "outputs": [
    {
     "data": {
      "text/plain": [
       "ExtractJob<project=sprintda05-soomin, location=asia-northeast3, id=da5adacf-2df9-4d67-b36d-297b2c1bdfdf>"
      ]
     },
     "execution_count": 40,
     "metadata": {},
     "output_type": "execute_result"
    }
   ],
   "source": [
    "## CSV 파일로 클라우드 버킷에 저장\n",
    "bucket_name = 'sprintda05-soomin-bucket'\n",
    "\n",
    "client.extract_table(\n",
    "    source=f'education.point_his',\n",
    "    destination_uris=[f'gs://{bucket_name}/education/point_his.csv']\n",
    ")\n"
   ]
  },
  {
   "cell_type": "code",
   "execution_count": 41,
   "metadata": {},
   "outputs": [
    {
     "data": {
      "text/plain": [
       "ExtractJob<project=sprintda05-soomin, location=asia-northeast3, id=bcd87553-2a21-413d-9aba-c26999da8be3>"
      ]
     },
     "execution_count": 41,
     "metadata": {},
     "output_type": "execute_result"
    }
   ],
   "source": [
    "## 압축 파일로 저장\n",
    "job_config = bigquery.job.ExtractJobConfig()\n",
    "job_config.compression = bigquery.Compression.GZIP\n",
    "\n",
    "client.extract_table(\n",
    "    source=f'education.point_his',\n",
    "    destination_uris=[f'gs://{bucket_name}/education/point_his.csv.gz'],\n",
    "    job_config= job_config\n",
    ")"
   ]
  },
  {
   "cell_type": "markdown",
   "metadata": {},
   "source": [
    "#### 2-6) GCS의 파일 → BigQuery 테이블로 Load"
   ]
  },
  {
   "cell_type": "code",
   "execution_count": 52,
   "metadata": {},
   "outputs": [
    {
     "data": {
      "text/plain": [
       "LoadJob<project=sprintda05-soomin, location=asia-northeast3, id=de906856-7de3-42e6-8849-c2ae42eb4096>"
      ]
     },
     "execution_count": 52,
     "metadata": {},
     "output_type": "execute_result"
    }
   ],
   "source": [
    "## CSV 파일 \n",
    "job_config = bigquery.LoadJobConfig(\n",
    "    skip_leading_rows=1,        # csv는 첫 행을 skip해서 컬럼으로 써야 함\n",
    "    autodetect=True,\n",
    "    source_format=bigquery.SourceFormat.CSV\n",
    "    )\n",
    "\n",
    "client.load_table_from_uri(\n",
    "    source_uris=[f'gs://{bucket_name}/education/point_his.csv'],\n",
    "    destination=f'{project_id}.education.point_his',\n",
    "    job_config=job_config\n",
    ")"
   ]
  },
  {
   "cell_type": "code",
   "execution_count": 53,
   "metadata": {},
   "outputs": [
    {
     "data": {
      "text/plain": [
       "LoadJob<project=sprintda05-soomin, location=asia-northeast3, id=91d47056-b4a2-453f-940d-6e9fe6f9e83e>"
      ]
     },
     "execution_count": 53,
     "metadata": {},
     "output_type": "execute_result"
    }
   ],
   "source": [
    "## parquet 파일\n",
    "job_config = bigquery.LoadJobConfig(\n",
    "    autodetect=True,\n",
    "    source_format=bigquery.SourceFormat.PARQUET\n",
    "    )\n",
    "\n",
    "client.load_table_from_uri(\n",
    "    source_uris=\"gs://sprintda05-soomin-bucket/BigQuery/item_his.parquet\",\n",
    "    destination=\"education.item_his\",\n",
    "    job_config=job_config\n",
    ")\n"
   ]
  }
 ],
 "metadata": {
  "kernelspec": {
   "display_name": "Python 3",
   "language": "python",
   "name": "python3"
  },
  "language_info": {
   "codemirror_mode": {
    "name": "ipython",
    "version": 3
   },
   "file_extension": ".py",
   "mimetype": "text/x-python",
   "name": "python",
   "nbconvert_exporter": "python",
   "pygments_lexer": "ipython3",
   "version": "3.12.3"
  }
 },
 "nbformat": 4,
 "nbformat_minor": 2
}
