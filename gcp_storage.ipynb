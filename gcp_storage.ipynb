{
 "cells": [
  {
   "cell_type": "markdown",
   "id": "717201b1",
   "metadata": {},
   "source": [
    "## 0. 필요 라이브러리 import"
   ]
  },
  {
   "cell_type": "code",
   "execution_count": null,
   "id": "d6a2dd43",
   "metadata": {},
   "outputs": [
    {
     "name": "stdout",
     "output_type": "stream",
     "text": [
      "Defaulting to user installation because normal site-packages is not writeable\n",
      "Requirement already satisfied: google-cloud-storage in /home/sprintda05/.local/lib/python3.12/site-packages (3.1.0)\n",
      "Requirement already satisfied: google-auth<3.0dev,>=2.26.1 in /home/sprintda05/.local/lib/python3.12/site-packages (from google-cloud-storage) (2.40.1)\n",
      "Requirement already satisfied: google-api-core<3.0.0dev,>=2.15.0 in /home/sprintda05/.local/lib/python3.12/site-packages (from google-cloud-storage) (2.24.2)\n",
      "Requirement already satisfied: google-cloud-core<3.0dev,>=2.4.2 in /home/sprintda05/.local/lib/python3.12/site-packages (from google-cloud-storage) (2.4.3)\n",
      "Requirement already satisfied: google-resumable-media>=2.7.2 in /home/sprintda05/.local/lib/python3.12/site-packages (from google-cloud-storage) (2.7.2)\n",
      "Requirement already satisfied: requests<3.0.0dev,>=2.18.0 in /usr/lib/python3/dist-packages (from google-cloud-storage) (2.31.0)\n",
      "Requirement already satisfied: google-crc32c<2.0dev,>=1.0 in /home/sprintda05/.local/lib/python3.12/site-packages (from google-cloud-storage) (1.7.1)\n",
      "Requirement already satisfied: googleapis-common-protos<2.0.0,>=1.56.2 in /home/sprintda05/.local/lib/python3.12/site-packages (from google-api-core<3.0.0dev,>=2.15.0->google-cloud-storage) (1.70.0)\n",
      "Requirement already satisfied: protobuf!=3.20.0,!=3.20.1,!=4.21.0,!=4.21.1,!=4.21.2,!=4.21.3,!=4.21.4,!=4.21.5,<7.0.0,>=3.19.5 in /home/sprintda05/.local/lib/python3.12/site-packages (from google-api-core<3.0.0dev,>=2.15.0->google-cloud-storage) (6.30.2)\n",
      "Requirement already satisfied: proto-plus<2.0.0,>=1.22.3 in /home/sprintda05/.local/lib/python3.12/site-packages (from google-api-core<3.0.0dev,>=2.15.0->google-cloud-storage) (1.26.1)\n",
      "Requirement already satisfied: cachetools<6.0,>=2.0.0 in /home/sprintda05/.local/lib/python3.12/site-packages (from google-auth<3.0dev,>=2.26.1->google-cloud-storage) (5.5.2)\n",
      "Requirement already satisfied: pyasn1-modules>=0.2.1 in /usr/lib/python3/dist-packages (from google-auth<3.0dev,>=2.26.1->google-cloud-storage) (0.2.8)\n",
      "Requirement already satisfied: rsa<5,>=3.1.4 in /home/sprintda05/.local/lib/python3.12/site-packages (from google-auth<3.0dev,>=2.26.1->google-cloud-storage) (4.9.1)\n",
      "Requirement already satisfied: pyasn1>=0.1.3 in /usr/lib/python3/dist-packages (from rsa<5,>=3.1.4->google-auth<3.0dev,>=2.26.1->google-cloud-storage) (0.4.8)\n"
     ]
    }
   ],
   "source": [
    "%pip install google-cloud-storage"
   ]
  },
  {
   "cell_type": "code",
   "execution_count": null,
   "id": "0ecd1443",
   "metadata": {},
   "outputs": [],
   "source": [
    "from google.oauth2 import service_account\n",
    "from google.cloud import storage"
   ]
  },
  {
   "cell_type": "markdown",
   "id": "b12a9d57",
   "metadata": {},
   "source": [
    "## 1. GCP 권한 인증"
   ]
  },
  {
   "cell_type": "code",
   "execution_count": null,
   "id": "de8976f8",
   "metadata": {},
   "outputs": [],
   "source": [
    "## 권한 인증\n",
    "\n",
    "JSON_KEY_PATH = \".json\"\n",
    "\n",
    "credentials = service_account.Credentials.from_service_account_file(JSON_KEY_PATH)"
   ]
  },
  {
   "cell_type": "code",
   "execution_count": null,
   "id": "90ca15a3",
   "metadata": {},
   "outputs": [],
   "source": [
    "## Client 생성"
   ]
  },
  {
   "cell_type": "markdown",
   "id": "fe0313b9",
   "metadata": {},
   "source": [
    "## 2. Parquet 파일 다루기\n",
    "- 데이터를 객체 저장소에 저장할 때는, 용량 효율성, 빅데이터 도구들과의 호환성, 파티셔닝 등의 이점 때문에 CSV나 JSON 같은 포맷보다 Parquet 포맷을 사용하는 경우가 많습니다. (대부분 Parquet 사용)"
   ]
  },
  {
   "cell_type": "code",
   "execution_count": null,
   "id": "e49c2242",
   "metadata": {},
   "outputs": [],
   "source": [
    "## parquet 파일 쓰기"
   ]
  },
  {
   "cell_type": "code",
   "execution_count": null,
   "id": "c850248e",
   "metadata": {},
   "outputs": [],
   "source": [
    "## parquet 파일 읽기기"
   ]
  },
  {
   "cell_type": "markdown",
   "id": "b0643097",
   "metadata": {},
   "source": [
    "## 3. Bucket 관련 작업"
   ]
  },
  {
   "cell_type": "code",
   "execution_count": null,
   "id": "61ffca41",
   "metadata": {},
   "outputs": [],
   "source": [
    "## 1) 버킷 목록 가져오기"
   ]
  },
  {
   "cell_type": "code",
   "execution_count": null,
   "id": "d4f56e2f",
   "metadata": {},
   "outputs": [],
   "source": [
    "## 2) 버킷 생성"
   ]
  },
  {
   "cell_type": "code",
   "execution_count": null,
   "id": "028e5cf0",
   "metadata": {},
   "outputs": [],
   "source": [
    "## 3) 버킷 정보 조회"
   ]
  },
  {
   "cell_type": "code",
   "execution_count": null,
   "id": "333a16f4",
   "metadata": {},
   "outputs": [],
   "source": [
    "## 4) 버킷 삭제"
   ]
  },
  {
   "cell_type": "markdown",
   "id": "c7870891",
   "metadata": {},
   "source": [
    "## 4. 객체 관련 작업"
   ]
  },
  {
   "cell_type": "code",
   "execution_count": null,
   "id": "442b2ede",
   "metadata": {},
   "outputs": [],
   "source": [
    "## 1) 객체 업로드 - 파일"
   ]
  },
  {
   "cell_type": "code",
   "execution_count": null,
   "id": "21055f32",
   "metadata": {},
   "outputs": [],
   "source": [
    "## 2) 객체 업로드 - DataFrame"
   ]
  },
  {
   "cell_type": "code",
   "execution_count": null,
   "id": "647f0fe1",
   "metadata": {},
   "outputs": [],
   "source": [
    "## 3) 객체 다운로드"
   ]
  },
  {
   "cell_type": "code",
   "execution_count": null,
   "id": "7ce469b2",
   "metadata": {},
   "outputs": [],
   "source": [
    "## 4) 폴더 내 객체 목록 가져오기"
   ]
  },
  {
   "cell_type": "code",
   "execution_count": null,
   "id": "a9bcd2c1",
   "metadata": {},
   "outputs": [],
   "source": [
    "## 5) 객체 유무 조회"
   ]
  },
  {
   "cell_type": "code",
   "execution_count": null,
   "id": "a4a01208",
   "metadata": {},
   "outputs": [],
   "source": [
    "## 6) 객체 삭제"
   ]
  },
  {
   "cell_type": "markdown",
   "id": "7819bd00",
   "metadata": {},
   "source": [
    "## 5. Pandas로 GCP 데이터 읽기"
   ]
  },
  {
   "cell_type": "code",
   "execution_count": null,
   "id": "afc78364",
   "metadata": {},
   "outputs": [
    {
     "name": "stdout",
     "output_type": "stream",
     "text": [
      "Defaulting to user installation because normal site-packages is not writeable\n",
      "Requirement already satisfied: fsspec in /home/sprintda05/.local/lib/python3.12/site-packages (2025.3.2)\n",
      "Requirement already satisfied: gcsfs in /home/sprintda05/.local/lib/python3.12/site-packages (2025.3.2)\n",
      "Requirement already satisfied: aiohttp!=4.0.0a0,!=4.0.0a1 in /home/sprintda05/.local/lib/python3.12/site-packages (from gcsfs) (3.11.18)\n",
      "Requirement already satisfied: decorator>4.1.2 in /home/sprintda05/.local/lib/python3.12/site-packages (from gcsfs) (5.2.1)\n",
      "Requirement already satisfied: google-auth>=1.2 in /home/sprintda05/.local/lib/python3.12/site-packages (from gcsfs) (2.40.1)\n",
      "Requirement already satisfied: google-auth-oauthlib in /home/sprintda05/.local/lib/python3.12/site-packages (from gcsfs) (1.2.2)\n",
      "Requirement already satisfied: google-cloud-storage in /home/sprintda05/.local/lib/python3.12/site-packages (from gcsfs) (3.1.0)\n",
      "Requirement already satisfied: requests in /usr/lib/python3/dist-packages (from gcsfs) (2.31.0)\n",
      "Requirement already satisfied: aiohappyeyeballs>=2.3.0 in /home/sprintda05/.local/lib/python3.12/site-packages (from aiohttp!=4.0.0a0,!=4.0.0a1->gcsfs) (2.6.1)\n",
      "Requirement already satisfied: aiosignal>=1.1.2 in /home/sprintda05/.local/lib/python3.12/site-packages (from aiohttp!=4.0.0a0,!=4.0.0a1->gcsfs) (1.3.2)\n",
      "Requirement already satisfied: attrs>=17.3.0 in /usr/lib/python3/dist-packages (from aiohttp!=4.0.0a0,!=4.0.0a1->gcsfs) (23.2.0)\n",
      "Requirement already satisfied: frozenlist>=1.1.1 in /home/sprintda05/.local/lib/python3.12/site-packages (from aiohttp!=4.0.0a0,!=4.0.0a1->gcsfs) (1.6.0)\n",
      "Requirement already satisfied: multidict<7.0,>=4.5 in /home/sprintda05/.local/lib/python3.12/site-packages (from aiohttp!=4.0.0a0,!=4.0.0a1->gcsfs) (6.4.3)\n",
      "Requirement already satisfied: propcache>=0.2.0 in /home/sprintda05/.local/lib/python3.12/site-packages (from aiohttp!=4.0.0a0,!=4.0.0a1->gcsfs) (0.3.1)\n",
      "Requirement already satisfied: yarl<2.0,>=1.17.0 in /home/sprintda05/.local/lib/python3.12/site-packages (from aiohttp!=4.0.0a0,!=4.0.0a1->gcsfs) (1.20.0)\n",
      "Requirement already satisfied: cachetools<6.0,>=2.0.0 in /home/sprintda05/.local/lib/python3.12/site-packages (from google-auth>=1.2->gcsfs) (5.5.2)\n",
      "Requirement already satisfied: pyasn1-modules>=0.2.1 in /usr/lib/python3/dist-packages (from google-auth>=1.2->gcsfs) (0.2.8)\n",
      "Requirement already satisfied: rsa<5,>=3.1.4 in /home/sprintda05/.local/lib/python3.12/site-packages (from google-auth>=1.2->gcsfs) (4.9.1)\n",
      "Requirement already satisfied: requests-oauthlib>=0.7.0 in /home/sprintda05/.local/lib/python3.12/site-packages (from google-auth-oauthlib->gcsfs) (2.0.0)\n",
      "Requirement already satisfied: google-api-core<3.0.0dev,>=2.15.0 in /home/sprintda05/.local/lib/python3.12/site-packages (from google-cloud-storage->gcsfs) (2.24.2)\n",
      "Requirement already satisfied: google-cloud-core<3.0dev,>=2.4.2 in /home/sprintda05/.local/lib/python3.12/site-packages (from google-cloud-storage->gcsfs) (2.4.3)\n",
      "Requirement already satisfied: google-resumable-media>=2.7.2 in /home/sprintda05/.local/lib/python3.12/site-packages (from google-cloud-storage->gcsfs) (2.7.2)\n",
      "Requirement already satisfied: google-crc32c<2.0dev,>=1.0 in /home/sprintda05/.local/lib/python3.12/site-packages (from google-cloud-storage->gcsfs) (1.7.1)\n",
      "Requirement already satisfied: googleapis-common-protos<2.0.0,>=1.56.2 in /home/sprintda05/.local/lib/python3.12/site-packages (from google-api-core<3.0.0dev,>=2.15.0->google-cloud-storage->gcsfs) (1.70.0)\n",
      "Requirement already satisfied: protobuf!=3.20.0,!=3.20.1,!=4.21.0,!=4.21.1,!=4.21.2,!=4.21.3,!=4.21.4,!=4.21.5,<7.0.0,>=3.19.5 in /home/sprintda05/.local/lib/python3.12/site-packages (from google-api-core<3.0.0dev,>=2.15.0->google-cloud-storage->gcsfs) (6.30.2)\n",
      "Requirement already satisfied: proto-plus<2.0.0,>=1.22.3 in /home/sprintda05/.local/lib/python3.12/site-packages (from google-api-core<3.0.0dev,>=2.15.0->google-cloud-storage->gcsfs) (1.26.1)\n",
      "Requirement already satisfied: oauthlib>=3.0.0 in /usr/lib/python3/dist-packages (from requests-oauthlib>=0.7.0->google-auth-oauthlib->gcsfs) (3.2.2)\n",
      "Requirement already satisfied: pyasn1>=0.1.3 in /usr/lib/python3/dist-packages (from rsa<5,>=3.1.4->google-auth>=1.2->gcsfs) (0.4.8)\n",
      "Requirement already satisfied: idna>=2.0 in /usr/lib/python3/dist-packages (from yarl<2.0,>=1.17.0->aiohttp!=4.0.0a0,!=4.0.0a1->gcsfs) (3.6)\n"
     ]
    }
   ],
   "source": [
    "%pip install fsspec gcsfs"
   ]
  },
  {
   "cell_type": "code",
   "execution_count": null,
   "id": "e6ce1f83",
   "metadata": {},
   "outputs": [],
   "source": []
  }
 ],
 "metadata": {
  "kernelspec": {
   "display_name": "Python 3",
   "language": "python",
   "name": "python3"
  },
  "language_info": {
   "codemirror_mode": {
    "name": "ipython",
    "version": 3
   },
   "file_extension": ".py",
   "mimetype": "text/x-python",
   "name": "python",
   "nbconvert_exporter": "python",
   "pygments_lexer": "ipython3",
   "version": "3.12.3"
  }
 },
 "nbformat": 4,
 "nbformat_minor": 5
}
