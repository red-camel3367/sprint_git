{
 "cells": [
  {
   "cell_type": "markdown",
   "id": "717201b1",
   "metadata": {},
   "source": [
    "## 0. 필요 라이브러리 import"
   ]
  },
  {
   "cell_type": "code",
   "execution_count": null,
   "id": "d6a2dd43",
   "metadata": {},
   "outputs": [],
   "source": [
    "!pip install google-cloud-storage"
   ]
  },
  {
   "cell_type": "code",
   "execution_count": null,
   "id": "0ecd1443",
   "metadata": {},
   "outputs": [],
   "source": [
    "from google.oauth2 import service_account\n",
    "from google.cloud import storage"
   ]
  },
  {
   "cell_type": "markdown",
   "id": "b12a9d57",
   "metadata": {},
   "source": [
    "## 1. GCP 권한 인증"
   ]
  },
  {
   "cell_type": "code",
   "execution_count": null,
   "id": "de8976f8",
   "metadata": {},
   "outputs": [],
   "source": [
    "## 권한 인증\n",
    "\n",
    "JSON_KEY_PATH = \".json\"\n",
    "\n",
    "credentials = service_account.Credentials.from_service_account_file(JSON_KEY_PATH)"
   ]
  },
  {
   "cell_type": "code",
   "execution_count": null,
   "id": "90ca15a3",
   "metadata": {},
   "outputs": [],
   "source": [
    "## Client 생성"
   ]
  },
  {
   "cell_type": "markdown",
   "id": "fe0313b9",
   "metadata": {},
   "source": [
    "## 2. Parquet 파일 다루기\n",
    "- 데이터를 객체 저장소에 저장할 때는, 용량 효율성, 빅데이터 도구들과의 호환성, 파티셔닝 등의 이점 때문에 CSV나 JSON 같은 포맷보다 Parquet 포맷을 사용하는 경우가 많습니다. (대부분 Parquet 사용)"
   ]
  },
  {
   "cell_type": "code",
   "execution_count": null,
   "id": "e49c2242",
   "metadata": {},
   "outputs": [],
   "source": [
    "## parquet 파일 쓰기"
   ]
  },
  {
   "cell_type": "code",
   "execution_count": null,
   "id": "c850248e",
   "metadata": {},
   "outputs": [],
   "source": [
    "## parquet 파일 읽기기"
   ]
  },
  {
   "cell_type": "markdown",
   "id": "b0643097",
   "metadata": {},
   "source": [
    "## 3. Bucket 관련 작업"
   ]
  },
  {
   "cell_type": "code",
   "execution_count": null,
   "id": "61ffca41",
   "metadata": {},
   "outputs": [],
   "source": [
    "## 1) 버킷 목록 가져오기"
   ]
  },
  {
   "cell_type": "code",
   "execution_count": null,
   "id": "d4f56e2f",
   "metadata": {},
   "outputs": [],
   "source": [
    "## 2) 버킷 생성"
   ]
  },
  {
   "cell_type": "code",
   "execution_count": null,
   "id": "028e5cf0",
   "metadata": {},
   "outputs": [],
   "source": [
    "## 3) 버킷 정보 조회"
   ]
  },
  {
   "cell_type": "code",
   "execution_count": null,
   "id": "333a16f4",
   "metadata": {},
   "outputs": [],
   "source": [
    "## 4) 버킷 삭제"
   ]
  },
  {
   "cell_type": "markdown",
   "id": "c7870891",
   "metadata": {},
   "source": [
    "## 4. 객체 관련 작업"
   ]
  },
  {
   "cell_type": "code",
   "execution_count": null,
   "id": "442b2ede",
   "metadata": {},
   "outputs": [],
   "source": [
    "## 1) 객체 업로드 - 파일"
   ]
  },
  {
   "cell_type": "code",
   "execution_count": null,
   "id": "21055f32",
   "metadata": {},
   "outputs": [],
   "source": [
    "## 2) 객체 업로드 - DataFrame"
   ]
  },
  {
   "cell_type": "code",
   "execution_count": null,
   "id": "647f0fe1",
   "metadata": {},
   "outputs": [],
   "source": [
    "## 3) 객체 다운로드"
   ]
  },
  {
   "cell_type": "code",
   "execution_count": null,
   "id": "7ce469b2",
   "metadata": {},
   "outputs": [],
   "source": [
    "## 4) 폴더 내 객체 목록 가져오기"
   ]
  },
  {
   "cell_type": "code",
   "execution_count": null,
   "id": "a9bcd2c1",
   "metadata": {},
   "outputs": [],
   "source": [
    "## 5) 객체 유무 조회"
   ]
  },
  {
   "cell_type": "code",
   "execution_count": null,
   "id": "a4a01208",
   "metadata": {},
   "outputs": [],
   "source": [
    "## 6) 객체 삭제"
   ]
  },
  {
   "cell_type": "markdown",
   "id": "7819bd00",
   "metadata": {},
   "source": [
    "## 5. Pandas로 GCP 데이터 읽기"
   ]
  },
  {
   "cell_type": "code",
   "execution_count": null,
   "id": "afc78364",
   "metadata": {},
   "outputs": [],
   "source": [
    "!pip install fsspec gcsfs"
   ]
  },
  {
   "cell_type": "code",
   "execution_count": null,
   "id": "e6ce1f83",
   "metadata": {},
   "outputs": [],
   "source": []
  }
 ],
 "metadata": {
  "language_info": {
   "name": "python"
  }
 },
 "nbformat": 4,
 "nbformat_minor": 5
}
