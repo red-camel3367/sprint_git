{
 "cells": [
  {
   "cell_type": "markdown",
   "id": "717201b1",
   "metadata": {},
   "source": [
    "## 0. 필요 라이브러리 import"
   ]
  },
  {
   "cell_type": "code",
   "execution_count": null,
   "id": "d6a2dd43",
   "metadata": {},
   "outputs": [],
   "source": [
    "%pip install google-cloud-storage"
   ]
  },
  {
   "cell_type": "code",
   "execution_count": 3,
   "id": "0ecd1443",
   "metadata": {},
   "outputs": [],
   "source": [
    "from google.oauth2 import service_account\n",
    "from google.cloud import storage\n",
    "import pandas as pd"
   ]
  },
  {
   "cell_type": "markdown",
   "id": "b12a9d57",
   "metadata": {},
   "source": [
    "## 1. GCP 권한 인증"
   ]
  },
  {
   "cell_type": "code",
   "execution_count": 2,
   "id": "de8976f8",
   "metadata": {},
   "outputs": [],
   "source": [
    "## 권한 인증\n",
    "\n",
    "JSON_KEY_PATH = \"sprintda05-soomin-389e878cb2dc.json\"\n",
    "\n",
    "credentials = service_account.Credentials.from_service_account_file(JSON_KEY_PATH)"
   ]
  },
  {
   "cell_type": "code",
   "execution_count": 5,
   "id": "90ca15a3",
   "metadata": {},
   "outputs": [],
   "source": [
    "## Client 생성\n",
    "project_id = 'sprintda05-soomin'\n",
    "location = 'asia-northeast3'\n",
    "\n",
    "client = storage.Client(\n",
    "    project=project_id,\n",
    "    credentials=credentials   \n",
    ")"
   ]
  },
  {
   "cell_type": "markdown",
   "id": "fe0313b9",
   "metadata": {},
   "source": [
    "## 2. Parquet 파일 다루기\n",
    "- 데이터를 객체 저장소에 저장할 때는, 용량 효율성, 빅데이터 도구들과의 호환성, 파티셔닝 등의 이점 때문에 CSV나 JSON 같은 포맷보다 Parquet 포맷을 사용하는 경우가 많습니다. (대부분 Parquet 사용)"
   ]
  },
  {
   "cell_type": "code",
   "execution_count": null,
   "id": "b5506cf6",
   "metadata": {},
   "outputs": [
    {
     "data": {
      "text/html": [
       "<div>\n",
       "<style scoped>\n",
       "    .dataframe tbody tr th:only-of-type {\n",
       "        vertical-align: middle;\n",
       "    }\n",
       "\n",
       "    .dataframe tbody tr th {\n",
       "        vertical-align: top;\n",
       "    }\n",
       "\n",
       "    .dataframe thead th {\n",
       "        text-align: right;\n",
       "    }\n",
       "</style>\n",
       "<table border=\"1\" class=\"dataframe\">\n",
       "  <thead>\n",
       "    <tr style=\"text-align: right;\">\n",
       "      <th></th>\n",
       "      <th>idx</th>\n",
       "      <th>sex</th>\n",
       "      <th>status</th>\n",
       "      <th>grade</th>\n",
       "    </tr>\n",
       "  </thead>\n",
       "  <tbody>\n",
       "    <tr>\n",
       "      <th>0</th>\n",
       "      <td>100</td>\n",
       "      <td>남</td>\n",
       "      <td>유료회원</td>\n",
       "      <td>초1학년</td>\n",
       "    </tr>\n",
       "    <tr>\n",
       "      <th>1</th>\n",
       "      <td>1000</td>\n",
       "      <td>여</td>\n",
       "      <td>유료회원</td>\n",
       "      <td>초5학년</td>\n",
       "    </tr>\n",
       "    <tr>\n",
       "      <th>2</th>\n",
       "      <td>10000</td>\n",
       "      <td>여</td>\n",
       "      <td>유료회원</td>\n",
       "      <td>초6학년</td>\n",
       "    </tr>\n",
       "    <tr>\n",
       "      <th>3</th>\n",
       "      <td>100007</td>\n",
       "      <td>남</td>\n",
       "      <td>유료회원</td>\n",
       "      <td>초4학년</td>\n",
       "    </tr>\n",
       "    <tr>\n",
       "      <th>4</th>\n",
       "      <td>10001</td>\n",
       "      <td>남</td>\n",
       "      <td>유료회원</td>\n",
       "      <td>초2학년</td>\n",
       "    </tr>\n",
       "  </tbody>\n",
       "</table>\n",
       "</div>"
      ],
      "text/plain": [
       "      idx sex status grade\n",
       "0     100   남   유료회원  초1학년\n",
       "1    1000   여   유료회원  초5학년\n",
       "2   10000   여   유료회원  초6학년\n",
       "3  100007   남   유료회원  초4학년\n",
       "4   10001   남   유료회원  초2학년"
      ]
     },
     "execution_count": 6,
     "metadata": {},
     "output_type": "execute_result"
    }
   ],
   "source": [
    "## parquet 파일 읽기\n",
    "df = pd.read_parquet('./dataset/member.parquet')\n",
    "df.head()"
   ]
  },
  {
   "cell_type": "code",
   "execution_count": 16,
   "id": "e49c2242",
   "metadata": {},
   "outputs": [],
   "source": [
    "## parquet 파일 쓰기\n",
    "df.to_parquet(\n",
    "    path='dataset/member_parquet.parquet',\n",
    "    index=False,\n",
    "    engine='pyarrow',\n",
    "    compression='gzip'\n",
    ")"
   ]
  },
  {
   "cell_type": "code",
   "execution_count": null,
   "id": "c850248e",
   "metadata": {},
   "outputs": [],
   "source": []
  },
  {
   "cell_type": "markdown",
   "id": "b0643097",
   "metadata": {},
   "source": [
    "## 3. Bucket 관련 작업"
   ]
  },
  {
   "cell_type": "code",
   "execution_count": null,
   "id": "61ffca41",
   "metadata": {},
   "outputs": [],
   "source": [
    "## 1) 버킷 목록 가져오기"
   ]
  },
  {
   "cell_type": "code",
   "execution_count": null,
   "id": "d4f56e2f",
   "metadata": {},
   "outputs": [],
   "source": [
    "## 2) 버킷 생성"
   ]
  },
  {
   "cell_type": "code",
   "execution_count": null,
   "id": "028e5cf0",
   "metadata": {},
   "outputs": [],
   "source": [
    "## 3) 버킷 정보 조회"
   ]
  },
  {
   "cell_type": "code",
   "execution_count": null,
   "id": "333a16f4",
   "metadata": {},
   "outputs": [],
   "source": [
    "## 4) 버킷 삭제"
   ]
  },
  {
   "cell_type": "markdown",
   "id": "c7870891",
   "metadata": {},
   "source": [
    "## 4. 객체 관련 작업"
   ]
  },
  {
   "cell_type": "code",
   "execution_count": null,
   "id": "442b2ede",
   "metadata": {},
   "outputs": [],
   "source": [
    "## 1) 객체 업로드 - 파일"
   ]
  },
  {
   "cell_type": "code",
   "execution_count": null,
   "id": "21055f32",
   "metadata": {},
   "outputs": [],
   "source": [
    "## 2) 객체 업로드 - DataFrame"
   ]
  },
  {
   "cell_type": "code",
   "execution_count": null,
   "id": "647f0fe1",
   "metadata": {},
   "outputs": [],
   "source": [
    "## 3) 객체 다운로드"
   ]
  },
  {
   "cell_type": "code",
   "execution_count": null,
   "id": "7ce469b2",
   "metadata": {},
   "outputs": [],
   "source": [
    "## 4) 폴더 내 객체 목록 가져오기"
   ]
  },
  {
   "cell_type": "code",
   "execution_count": null,
   "id": "a9bcd2c1",
   "metadata": {},
   "outputs": [],
   "source": [
    "## 5) 객체 유무 조회"
   ]
  },
  {
   "cell_type": "code",
   "execution_count": null,
   "id": "a4a01208",
   "metadata": {},
   "outputs": [],
   "source": [
    "## 6) 객체 삭제"
   ]
  },
  {
   "cell_type": "markdown",
   "id": "7819bd00",
   "metadata": {},
   "source": [
    "## 5. Pandas로 GCP 데이터 읽기\n",
    "- GCS를 작업자의 Local Directory처럼 활용하여 데이터를 조회할 수 있는 라이브러리\n",
    "\n",
    "1. 로컬 디렉토리에 저장된 파일 (read_csv, read_parquet)\n",
    "2. 데이터베이스에 저장된 테이블 (read_sql)\n",
    "3. 빅쿼리에 저장된 테이블 (read_gbq)\n",
    "4. 클라우드 객체 저장소(GCS)에 저장된 파일 (read_csv, read_parquet)"
   ]
  },
  {
   "cell_type": "code",
   "execution_count": 13,
   "id": "a98c5b23",
   "metadata": {},
   "outputs": [
    {
     "data": {
      "text/html": [
       "<div>\n",
       "<style scoped>\n",
       "    .dataframe tbody tr th:only-of-type {\n",
       "        vertical-align: middle;\n",
       "    }\n",
       "\n",
       "    .dataframe tbody tr th {\n",
       "        vertical-align: top;\n",
       "    }\n",
       "\n",
       "    .dataframe thead th {\n",
       "        text-align: right;\n",
       "    }\n",
       "</style>\n",
       "<table border=\"1\" class=\"dataframe\">\n",
       "  <thead>\n",
       "    <tr style=\"text-align: right;\">\n",
       "      <th></th>\n",
       "      <th>idx</th>\n",
       "      <th>proc_ym</th>\n",
       "      <th>proc_ymd</th>\n",
       "      <th>point</th>\n",
       "    </tr>\n",
       "  </thead>\n",
       "  <tbody>\n",
       "    <tr>\n",
       "      <th>0</th>\n",
       "      <td>87376</td>\n",
       "      <td>202304</td>\n",
       "      <td>20230401</td>\n",
       "      <td>1000</td>\n",
       "    </tr>\n",
       "    <tr>\n",
       "      <th>1</th>\n",
       "      <td>87599</td>\n",
       "      <td>202304</td>\n",
       "      <td>20230401</td>\n",
       "      <td>1000</td>\n",
       "    </tr>\n",
       "    <tr>\n",
       "      <th>2</th>\n",
       "      <td>87682</td>\n",
       "      <td>202304</td>\n",
       "      <td>20230401</td>\n",
       "      <td>1000</td>\n",
       "    </tr>\n",
       "    <tr>\n",
       "      <th>3</th>\n",
       "      <td>87555</td>\n",
       "      <td>202304</td>\n",
       "      <td>20230401</td>\n",
       "      <td>1000</td>\n",
       "    </tr>\n",
       "    <tr>\n",
       "      <th>4</th>\n",
       "      <td>87569</td>\n",
       "      <td>202304</td>\n",
       "      <td>20230401</td>\n",
       "      <td>1000</td>\n",
       "    </tr>\n",
       "  </tbody>\n",
       "</table>\n",
       "</div>"
      ],
      "text/plain": [
       "     idx  proc_ym  proc_ymd  point\n",
       "0  87376   202304  20230401   1000\n",
       "1  87599   202304  20230401   1000\n",
       "2  87682   202304  20230401   1000\n",
       "3  87555   202304  20230401   1000\n",
       "4  87569   202304  20230401   1000"
      ]
     },
     "execution_count": 13,
     "metadata": {},
     "output_type": "execute_result"
    }
   ],
   "source": [
    "pd.read_csv(\n",
    "    filepath_or_buffer=\"gs://sprintda05-soomin-bucket/education/point_his.csv\",\n",
    "    storage_options={\"token\":JSON_KEY_PATH}\n",
    ").head()"
   ]
  },
  {
   "cell_type": "code",
   "execution_count": 15,
   "id": "f033839a",
   "metadata": {},
   "outputs": [
    {
     "data": {
      "text/html": [
       "<div>\n",
       "<style scoped>\n",
       "    .dataframe tbody tr th:only-of-type {\n",
       "        vertical-align: middle;\n",
       "    }\n",
       "\n",
       "    .dataframe tbody tr th {\n",
       "        vertical-align: top;\n",
       "    }\n",
       "\n",
       "    .dataframe thead th {\n",
       "        text-align: right;\n",
       "    }\n",
       "</style>\n",
       "<table border=\"1\" class=\"dataframe\">\n",
       "  <thead>\n",
       "    <tr style=\"text-align: right;\">\n",
       "      <th></th>\n",
       "      <th>idx</th>\n",
       "      <th>regdate</th>\n",
       "    </tr>\n",
       "  </thead>\n",
       "  <tbody>\n",
       "    <tr>\n",
       "      <th>0</th>\n",
       "      <td>1</td>\n",
       "      <td>20221206</td>\n",
       "    </tr>\n",
       "    <tr>\n",
       "      <th>1</th>\n",
       "      <td>2</td>\n",
       "      <td>20221206</td>\n",
       "    </tr>\n",
       "    <tr>\n",
       "      <th>2</th>\n",
       "      <td>3</td>\n",
       "      <td>20221206</td>\n",
       "    </tr>\n",
       "    <tr>\n",
       "      <th>3</th>\n",
       "      <td>4</td>\n",
       "      <td>20221206</td>\n",
       "    </tr>\n",
       "    <tr>\n",
       "      <th>4</th>\n",
       "      <td>5</td>\n",
       "      <td>20221206</td>\n",
       "    </tr>\n",
       "  </tbody>\n",
       "</table>\n",
       "</div>"
      ],
      "text/plain": [
       "  idx   regdate\n",
       "0   1  20221206\n",
       "1   2  20221206\n",
       "2   3  20221206\n",
       "3   4  20221206\n",
       "4   5  20221206"
      ]
     },
     "execution_count": 15,
     "metadata": {},
     "output_type": "execute_result"
    }
   ],
   "source": [
    "pd.read_parquet(\n",
    "    path=\"gs://sprintda05-soomin-bucket/BigQuery/regdate.parquet\",\n",
    "    storage_options={\"token\":JSON_KEY_PATH}\n",
    ").head()"
   ]
  },
  {
   "cell_type": "code",
   "execution_count": null,
   "id": "afc78364",
   "metadata": {},
   "outputs": [],
   "source": [
    "%pip install fsspec gcsfs"
   ]
  },
  {
   "cell_type": "code",
   "execution_count": null,
   "id": "e6ce1f83",
   "metadata": {},
   "outputs": [],
   "source": [
    "df = pd.read_parquet('dataset/member.parquet')\n",
    "df.head()"
   ]
  },
  {
   "cell_type": "markdown",
   "id": "da84d818",
   "metadata": {},
   "source": [
    "## 6. (빅)데이터 저장시 Parquet 파일을 사용하는 이유\n",
    "\n",
    "- 용량! -> csv에 비해서 훨씬 작은 용량을 차지\n",
    "- 비용! -> 같은 데이터 저장 시, 더 작은 용량을 차지하기 때문에 비용이 덜 발생\n",
    "- metadata 같이 저장 -> 저장/읽어올 때 더 빠르고 편리\n",
    "- 빅데이터 관련 도구들과 호환 -> kafka, spark, flink, trino, hive, iceberg 등 빅데이터 도구들고 높은 호환성\n",
    "- 파티셔닝 기능 -> 객체 저장소에 저장될 때 자동으로 파티셔닝이 가능!    *파티셔닝 : 정보를 바탕으로 구분지어놓은 것 (ex:YMD)"
   ]
  },
  {
   "cell_type": "code",
   "execution_count": null,
   "id": "5901796e",
   "metadata": {},
   "outputs": [],
   "source": [
    "### 데이터가 굉장히 커지면?\n",
    "'''\n",
    "- DB나 빅쿼리에 테이블로 저장\n",
    "    - 높은 비용이 발생!\n",
    "\n",
    "- 객체 스토리지에 파일로 저장 (parquet)\n",
    "    - 비교적 적은 비용\n",
    "    - 다른 도구들과 호환성이 뛰어남\n",
    "    - 이 데이터를 Transform 하여 테이블로 저장하는 것이 효율적\n",
    "\n",
    "'''"
   ]
  },
  {
   "cell_type": "code",
   "execution_count": null,
   "id": "4fe6afa8",
   "metadata": {},
   "outputs": [],
   "source": [
    "### 데이터 저장 시 바람직하지 않은 방법\n",
    "'''\n",
    "data/\n",
    "    20250501.parquet\n",
    "    20250502.parquet\n",
    "    20250503.parquet\n",
    "    20250504.parquet\n",
    "\n",
    "'''"
   ]
  },
  {
   "cell_type": "code",
   "execution_count": null,
   "id": "35a39b48",
   "metadata": {},
   "outputs": [],
   "source": [
    "### 데이터 저장 시 바람직한 방법 (계층형)\n",
    "'''\n",
    "data/\n",
    "    - yyyy=2023/\n",
    "            - mm=04/\n",
    "                    - dd=01\n",
    "                        - data.parquet\n",
    "                    - dd=02\n",
    "                        - data.parquet\n",
    "                    - dd=03\n",
    "                        - data.parquet\n",
    "\n",
    "'''"
   ]
  },
  {
   "cell_type": "code",
   "execution_count": null,
   "id": "133eed3d",
   "metadata": {},
   "outputs": [],
   "source": [
    "pd.read_csv(\n",
    "    filepath_or_buffer=\"gs://sprintda05-soomin-bucket/gcp/gcs_part_csv\",    #폴더 경로를 입력한 경우\n",
    "    storage_options={\"token\":JSON_KEY_PATH}\n",
    ")\n",
    "# -> Error 발생. csv는 파일 단위로 읽어와야함"
   ]
  },
  {
   "cell_type": "code",
   "execution_count": null,
   "id": "e958fed5",
   "metadata": {},
   "outputs": [
    {
     "data": {
      "text/html": [
       "<div>\n",
       "<style scoped>\n",
       "    .dataframe tbody tr th:only-of-type {\n",
       "        vertical-align: middle;\n",
       "    }\n",
       "\n",
       "    .dataframe tbody tr th {\n",
       "        vertical-align: top;\n",
       "    }\n",
       "\n",
       "    .dataframe thead th {\n",
       "        text-align: right;\n",
       "    }\n",
       "</style>\n",
       "<table border=\"1\" class=\"dataframe\">\n",
       "  <thead>\n",
       "    <tr style=\"text-align: right;\">\n",
       "      <th></th>\n",
       "      <th>idx</th>\n",
       "      <th>proc_ym</th>\n",
       "      <th>proc_ymd</th>\n",
       "      <th>pointnm</th>\n",
       "      <th>yyyy</th>\n",
       "      <th>mm</th>\n",
       "      <th>dd</th>\n",
       "    </tr>\n",
       "  </thead>\n",
       "  <tbody>\n",
       "    <tr>\n",
       "      <th>0</th>\n",
       "      <td>75178</td>\n",
       "      <td>202304</td>\n",
       "      <td>2023-04-01</td>\n",
       "      <td>한글 스피치</td>\n",
       "      <td>2023</td>\n",
       "      <td>4</td>\n",
       "      <td>1</td>\n",
       "    </tr>\n",
       "    <tr>\n",
       "      <th>1</th>\n",
       "      <td>7287</td>\n",
       "      <td>202304</td>\n",
       "      <td>2023-04-01</td>\n",
       "      <td>중학 1학년</td>\n",
       "      <td>2023</td>\n",
       "      <td>4</td>\n",
       "      <td>1</td>\n",
       "    </tr>\n",
       "    <tr>\n",
       "      <th>2</th>\n",
       "      <td>5547</td>\n",
       "      <td>202304</td>\n",
       "      <td>2023-04-01</td>\n",
       "      <td>중학 1학년</td>\n",
       "      <td>2023</td>\n",
       "      <td>4</td>\n",
       "      <td>1</td>\n",
       "    </tr>\n",
       "    <tr>\n",
       "      <th>3</th>\n",
       "      <td>80092</td>\n",
       "      <td>202304</td>\n",
       "      <td>2023-04-01</td>\n",
       "      <td>중학 1학년</td>\n",
       "      <td>2023</td>\n",
       "      <td>4</td>\n",
       "      <td>1</td>\n",
       "    </tr>\n",
       "    <tr>\n",
       "      <th>4</th>\n",
       "      <td>67940</td>\n",
       "      <td>202304</td>\n",
       "      <td>2023-04-01</td>\n",
       "      <td>중학 2학년</td>\n",
       "      <td>2023</td>\n",
       "      <td>4</td>\n",
       "      <td>1</td>\n",
       "    </tr>\n",
       "    <tr>\n",
       "      <th>...</th>\n",
       "      <td>...</td>\n",
       "      <td>...</td>\n",
       "      <td>...</td>\n",
       "      <td>...</td>\n",
       "      <td>...</td>\n",
       "      <td>...</td>\n",
       "      <td>...</td>\n",
       "    </tr>\n",
       "    <tr>\n",
       "      <th>44417</th>\n",
       "      <td>12257</td>\n",
       "      <td>202304</td>\n",
       "      <td>2023-04-30</td>\n",
       "      <td>밀크T 지오그래픽</td>\n",
       "      <td>2023</td>\n",
       "      <td>4</td>\n",
       "      <td>30</td>\n",
       "    </tr>\n",
       "    <tr>\n",
       "      <th>44418</th>\n",
       "      <td>12257</td>\n",
       "      <td>202304</td>\n",
       "      <td>2023-04-30</td>\n",
       "      <td>밀크T 지오그래픽</td>\n",
       "      <td>2023</td>\n",
       "      <td>4</td>\n",
       "      <td>30</td>\n",
       "    </tr>\n",
       "    <tr>\n",
       "      <th>44419</th>\n",
       "      <td>12257</td>\n",
       "      <td>202304</td>\n",
       "      <td>2023-04-30</td>\n",
       "      <td>밀크T 지오그래픽</td>\n",
       "      <td>2023</td>\n",
       "      <td>4</td>\n",
       "      <td>30</td>\n",
       "    </tr>\n",
       "    <tr>\n",
       "      <th>44420</th>\n",
       "      <td>66583</td>\n",
       "      <td>202304</td>\n",
       "      <td>2023-04-30</td>\n",
       "      <td>밀크T 지오그래픽</td>\n",
       "      <td>2023</td>\n",
       "      <td>4</td>\n",
       "      <td>30</td>\n",
       "    </tr>\n",
       "    <tr>\n",
       "      <th>44421</th>\n",
       "      <td>66583</td>\n",
       "      <td>202304</td>\n",
       "      <td>2023-04-30</td>\n",
       "      <td>밀크T 지오그래픽</td>\n",
       "      <td>2023</td>\n",
       "      <td>4</td>\n",
       "      <td>30</td>\n",
       "    </tr>\n",
       "  </tbody>\n",
       "</table>\n",
       "<p>44422 rows × 7 columns</p>\n",
       "</div>"
      ],
      "text/plain": [
       "         idx proc_ym   proc_ymd    pointnm  yyyy mm  dd\n",
       "0      75178  202304 2023-04-01     한글 스피치  2023  4   1\n",
       "1       7287  202304 2023-04-01     중학 1학년  2023  4   1\n",
       "2       5547  202304 2023-04-01     중학 1학년  2023  4   1\n",
       "3      80092  202304 2023-04-01     중학 1학년  2023  4   1\n",
       "4      67940  202304 2023-04-01     중학 2학년  2023  4   1\n",
       "...      ...     ...        ...        ...   ... ..  ..\n",
       "44417  12257  202304 2023-04-30  밀크T 지오그래픽  2023  4  30\n",
       "44418  12257  202304 2023-04-30  밀크T 지오그래픽  2023  4  30\n",
       "44419  12257  202304 2023-04-30  밀크T 지오그래픽  2023  4  30\n",
       "44420  66583  202304 2023-04-30  밀크T 지오그래픽  2023  4  30\n",
       "44421  66583  202304 2023-04-30  밀크T 지오그래픽  2023  4  30\n",
       "\n",
       "[44422 rows x 7 columns]"
      ]
     },
     "execution_count": 21,
     "metadata": {},
     "output_type": "execute_result"
    }
   ],
   "source": [
    "pd.read_parquet(\n",
    "    path=\"gs://sprintda05-soomin-bucket/gcp/gcs_part_parquet\",    #폴더 경로를 입력한 경우\n",
    "    storage_options={\"token\":JSON_KEY_PATH}\n",
    ")\n",
    "# -> 경로에 존재하는 모든 parquet을 탐색하여 read & merge 한 데이터로 반환\n",
    "# 폴더 구조(yyyy/mm/dd)가 컬럼으로 들어감"
   ]
  },
  {
   "cell_type": "code",
   "execution_count": null,
   "id": "7270445a",
   "metadata": {},
   "outputs": [],
   "source": [
    "'''\n",
    "Csv와 Parquet의 차이점\n",
    "'''"
   ]
  }
 ],
 "metadata": {
  "kernelspec": {
   "display_name": "Python 3",
   "language": "python",
   "name": "python3"
  },
  "language_info": {
   "codemirror_mode": {
    "name": "ipython",
    "version": 3
   },
   "file_extension": ".py",
   "mimetype": "text/x-python",
   "name": "python",
   "nbconvert_exporter": "python",
   "pygments_lexer": "ipython3",
   "version": "3.12.3"
  }
 },
 "nbformat": 4,
 "nbformat_minor": 5
}
